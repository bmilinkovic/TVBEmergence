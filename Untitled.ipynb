{
 "cells": [
  {
   "cell_type": "code",
   "execution_count": 120,
   "id": "997a3254-5e35-4f7b-bd66-596e99b9ed28",
   "metadata": {},
   "outputs": [],
   "source": [
    "import numpy as np\n",
    "import scipy as sc\n",
    "import scipy.io as sio\n",
    "import matplotlib.pyplot as plt\n",
    "import seaborn as sns\n",
    "import os\n",
    "import pandas as pd\n",
    "\n",
    "\n",
    "from plots import ssdigraphs"
   ]
  },
  {
   "cell_type": "code",
   "execution_count": 121,
   "id": "7187c666-9a4a-4625-831c-edeb300dee2b",
   "metadata": {},
   "outputs": [],
   "source": [
    "data_dir = 'networks/models/'\n",
    "figure_results = 'results/figures_for_publication/'"
   ]
  },
  {
   "cell_type": "code",
   "execution_count": 154,
   "id": "c6010674-1b8d-4290-9e60-89b73fe0f8e6",
   "metadata": {},
   "outputs": [],
   "source": [
    "preoptimisation = sio.loadmat(os.path.join(data_dir, 'opthistp_mdim_8'))\n",
    "preopthist = preoptimisation['ohistp']\n",
    "\n",
    "optimisation = sio.loadmat(os.path.join(data_dir, 'opthisto_mdim_8'))\n",
    "opthist = optimisation['ohisto']\n"
   ]
  },
  {
   "cell_type": "code",
   "execution_count": 155,
   "id": "8b3c3055-e0d8-474d-8258-4416c22ad9a2",
   "metadata": {},
   "outputs": [
    {
     "data": {
      "text/plain": [
       "(3, 1)"
      ]
     },
     "execution_count": 155,
     "metadata": {},
     "output_type": "execute_result"
    }
   ],
   "source": [
    "opthist.shape"
   ]
  },
  {
   "cell_type": "code",
   "execution_count": 156,
   "id": "0efe1c53-045a-451d-ab4e-2cfb0165679e",
   "metadata": {},
   "outputs": [
    {
     "data": {
      "text/plain": [
       "(109,)"
      ]
     },
     "execution_count": 156,
     "metadata": {},
     "output_type": "execute_result"
    }
   ],
   "source": [
    "preopthist[0][0][:,0].shape\n",
    "\n"
   ]
  },
  {
   "cell_type": "code",
   "execution_count": 157,
   "id": "43d24dc0-4bb3-4d15-8414-fafd2e7e4e54",
   "metadata": {},
   "outputs": [
    {
     "data": {
      "image/png": "[encoded data removed]",
      "text/plain": [
       "<Figure size 432x288 with 1 Axes>"
      ]
     },
     "metadata": {
      "needs_background": "light"
     },
     "output_type": "display_data"
    }
   ],
   "source": [
    "\n",
    "\n",
    "runs = range(len(preopthist[0][0][:,0]))\n",
    "\n",
    "plt.bar(x=runs, height=preopthist[0][0][:,0], alpha=0.5, label='preoptimisation history')\n",
    "#plt.hist(opthist.squeeze(), alpha=0.5, label='optimisation history')\n",
    "plt.legend(loc='upper right')\n",
    "plt.show()"
   ]
  },
  {
   "cell_type": "code",
   "execution_count": 119,
   "id": "b249ff32-5a7f-4af0-8855-be9da65dcda0",
   "metadata": {},
   "outputs": [
    {
     "ename": "IndexError",
     "evalue": "list index out of range",
     "output_type": "error",
     "traceback": [
      "\u001b[0;31m---------------------------------------------------------------------------\u001b[0m",
      "\u001b[0;31mIndexError\u001b[0m                                Traceback (most recent call last)",
      "\u001b[0;32m<ipython-input-119-0f44aa5693b1>\u001b[0m in \u001b[0;36m<module>\u001b[0;34m\u001b[0m\n\u001b[1;32m     15\u001b[0m     \u001b[0mpreoptimisation\u001b[0m \u001b[0;34m=\u001b[0m \u001b[0msio\u001b[0m\u001b[0;34m.\u001b[0m\u001b[0mloadmat\u001b[0m\u001b[0;34m(\u001b[0m\u001b[0mos\u001b[0m\u001b[0;34m.\u001b[0m\u001b[0mpath\u001b[0m\u001b[0;34m.\u001b[0m\u001b[0mjoin\u001b[0m\u001b[0;34m(\u001b[0m\u001b[0mdata_dir\u001b[0m\u001b[0;34m,\u001b[0m \u001b[0;34m'opthistp_mdim_'\u001b[0m \u001b[0;34m+\u001b[0m \u001b[0mstr\u001b[0m\u001b[0;34m(\u001b[0m\u001b[0mi\u001b[0m\u001b[0;34m)\u001b[0m\u001b[0;34m)\u001b[0m\u001b[0;34m)\u001b[0m\u001b[0;34m\u001b[0m\u001b[0;34m\u001b[0m\u001b[0m\n\u001b[1;32m     16\u001b[0m     \u001b[0mpreopthist\u001b[0m \u001b[0;34m=\u001b[0m \u001b[0mpreoptimisation\u001b[0m\u001b[0;34m[\u001b[0m\u001b[0;34m'ohistp'\u001b[0m\u001b[0;34m]\u001b[0m\u001b[0;34m[\u001b[0m\u001b[0;36m0\u001b[0m\u001b[0;34m]\u001b[0m\u001b[0;34m[\u001b[0m\u001b[0;36m0\u001b[0m\u001b[0;34m]\u001b[0m\u001b[0;34m[\u001b[0m\u001b[0;34m:\u001b[0m\u001b[0;34m,\u001b[0m\u001b[0;36m0\u001b[0m\u001b[0;34m]\u001b[0m\u001b[0;34m\u001b[0m\u001b[0;34m\u001b[0m\u001b[0m\n\u001b[0;32m---> 17\u001b[0;31m     \u001b[0msns\u001b[0m\u001b[0;34m.\u001b[0m\u001b[0mbarplot\u001b[0m\u001b[0;34m(\u001b[0m\u001b[0my\u001b[0m\u001b[0;34m=\u001b[0m\u001b[0mpreopthist\u001b[0m\u001b[0;34m,\u001b[0m \u001b[0max\u001b[0m\u001b[0;34m=\u001b[0m\u001b[0max\u001b[0m\u001b[0;34m,\u001b[0m \u001b[0mcolor\u001b[0m\u001b[0;34m=\u001b[0m\u001b[0mcolors\u001b[0m\u001b[0;34m[\u001b[0m\u001b[0mi\u001b[0m\u001b[0;34m]\u001b[0m\u001b[0;34m)\u001b[0m\u001b[0;34m\u001b[0m\u001b[0;34m\u001b[0m\u001b[0m\n\u001b[0m\u001b[1;32m     18\u001b[0m \u001b[0;34m\u001b[0m\u001b[0m\n\u001b[1;32m     19\u001b[0m \u001b[0;31m# Set x-axis and y-axis labels\u001b[0m\u001b[0;34m\u001b[0m\u001b[0;34m\u001b[0m\u001b[0;34m\u001b[0m\u001b[0m\n",
      "\u001b[0;31mIndexError\u001b[0m: list index out of range"
     ]
    },
    {
     "data": {
      "image/png": "[encoded data removed]",
      "text/plain": [
       "<Figure size 432x288 with 1 Axes>"
      ]
     },
     "metadata": {
      "needs_background": "light"
     },
     "output_type": "display_data"
    }
   ],
   "source": [
    "import seaborn as sns\n",
    "import matplotlib.pyplot as plt\n",
    "\n",
    "# Example x-axis labels\n",
    "#labels = ['2-macro', '3-macro', '4-macro', '5-macro', '6-macro', '7-macro', '8-macro']\n",
    "\n",
    "# Example colors for the bars\n",
    "colors = ['red', 'blue', 'green', 'orange', 'purple', 'yellow', 'cyan', 'magenta']\n",
    "\n",
    "# Create the figure and axis objects\n",
    "fig, ax = plt.subplots()\n",
    "\n",
    "# Plot the barplots for each dataset\n",
    "for i in range(2,9):\n",
    "    preoptimisation = sio.loadmat(os.path.join(data_dir, 'opthistp_mdim_' + str(i)))\n",
    "    preopthist = preoptimisation['ohistp'][0][0][:,0] \n",
    "    sns.barplot(y=preopthist, ax=ax, color=colors[i])\n",
    "\n",
    "# Set x-axis and y-axis labels\n",
    "ax.set_xlabel(\"$n$-macro\")\n",
    "ax.set_ylabel(\"Dynamical Dependence Value\")\n",
    "\n",
    "# Set the title\n",
    "ax.set_title(\"Maximal Dynamical Dependence for each optimisation run across all $n$-macros\")\n",
    "\n",
    "# Show the plot\n",
    "plt.show()"
   ]
  },
  {
   "cell_type": "code",
   "execution_count": null,
   "id": "42ad8ff2-389c-4e11-8976-f30bf8124166",
   "metadata": {},
   "outputs": [],
   "source": []
  },
  {
   "cell_type": "code",
   "execution_count": null,
   "id": "aaa136ef-dcdd-41d4-b5b9-389f17b87ebb",
   "metadata": {},
   "outputs": [],
   "source": []
  }
 ],
 "metadata": {
  "kernelspec": {
   "display_name": "Python 3",
   "language": "python",
   "name": "python3"
  },
  "language_info": {
   "codemirror_mode": {
    "name": "ipython",
    "version": 3
   },
   "file_extension": ".py",
   "mimetype": "text/x-python",
   "name": "python",
   "nbconvert_exporter": "python",
   "pygments_lexer": "ipython3",
   "version": "3.8.8"
  }
 },
 "nbformat": 4,
 "nbformat_minor": 5
}
