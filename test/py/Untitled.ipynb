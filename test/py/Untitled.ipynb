{
 "cells": [
  {
   "cell_type": "code",
   "execution_count": 1,
   "id": "22e02a71-3e5b-4f7e-882b-940ef080f9c1",
   "metadata": {},
   "outputs": [
    {
     "name": "stdout",
     "output_type": "stream",
     "text": [
      "2023-07-17 15:14:28,754 - WARNING - tvb.simulator.common - psutil module not available: no warnings will be issued when a\n",
      "    simulation may require more memory than available\n",
      "   INFO  log level set to INFO\n"
     ]
    },
    {
     "name": "stderr",
     "output_type": "stream",
     "text": [
      "/Users/borjanmilinkovic/opt/anaconda3/envs/tvb-run/lib/python3.10/site-packages/tvb/datatypes/surfaces.py:63: UserWarning: Geodesic distance module is unavailable; some functionality for surfaces will be unavailable.\n",
      "  warnings.warn(msg)\n"
     ]
    },
    {
     "ename": "ImportError",
     "evalue": "cannot import name 'connMatrixPlotter' from 'utils.pyutils.connMatrixPlotter' (/Users/borjanmilinkovic/Documents/gitdir/TVBEmergence/utils/pyutils/connMatrixPlotter.py)",
     "output_type": "error",
     "traceback": [
      "\u001b[0;31m---------------------------------------------------------------------------\u001b[0m",
      "\u001b[0;31mImportError\u001b[0m                               Traceback (most recent call last)",
      "Input \u001b[0;32mIn [1]\u001b[0m, in \u001b[0;36m<cell line: 13>\u001b[0;34m()\u001b[0m\n\u001b[1;32m     10\u001b[0m \u001b[38;5;28;01mimport\u001b[39;00m \u001b[38;5;21;01mmatplotlib\u001b[39;00m\u001b[38;5;21;01m.\u001b[39;00m\u001b[38;5;21;01mpyplot\u001b[39;00m \u001b[38;5;28;01mas\u001b[39;00m \u001b[38;5;21;01mplt\u001b[39;00m\n\u001b[1;32m     12\u001b[0m \u001b[38;5;28;01mfrom\u001b[39;00m \u001b[38;5;21;01mitertools\u001b[39;00m \u001b[38;5;28;01mimport\u001b[39;00m product\n\u001b[0;32m---> 13\u001b[0m \u001b[38;5;28;01mfrom\u001b[39;00m \u001b[38;5;21;01mutils\u001b[39;00m\u001b[38;5;21;01m.\u001b[39;00m\u001b[38;5;21;01mpyutils\u001b[39;00m\u001b[38;5;21;01m.\u001b[39;00m\u001b[38;5;21;01mconnMatrixPlotter\u001b[39;00m \u001b[38;5;28;01mimport\u001b[39;00m connMatrixPlotter\n",
      "\u001b[0;31mImportError\u001b[0m: cannot import name 'connMatrixPlotter' from 'utils.pyutils.connMatrixPlotter' (/Users/borjanmilinkovic/Documents/gitdir/TVBEmergence/utils/pyutils/connMatrixPlotter.py)"
     ]
    }
   ],
   "source": [
    "import numpy as np\n",
    "import random\n",
    "from tvb.simulator.lab import *\n",
    "from scipy.stats import zscore\n",
    "import scipy.io as sio\n",
    "import pandas as pd\n",
    "import os\n",
    "\n",
    "import matplotlib as mpl\n",
    "import matplotlib.pyplot as plt\n",
    "\n",
    "from itertools import product\n",
    "from utils.pyutils.connMatrixPlotter import connMatrixPlotter"
   ]
  },
  {
   "cell_type": "code",
   "execution_count": null,
   "id": "47a4a4f1-52fd-4d9f-8a17-5c9ca6e3e0a5",
   "metadata": {},
   "outputs": [],
   "source": [
    "resultsDir = '/Users/borjanmilinkovic/Documents/gitdir/TVBEmergence/results/'\n",
    "dataDir = os.path.join(resultsDir, 'TEST_SJ3D_ps_gc-noise/data/')\n",
    "figureDir = os.path.join(resultsDir, 'TEST_SJ3D_ps_gc-noise/figures/')\n",
    "connDir = os.path.join(resultsDir, 'TEST_SJ3D_ps_gc-noise/conn/')\n",
    "\n",
    "if not os.path.exists(figureDir):\n",
    "   os.makedirs(figureDir)\n",
    "\n",
    "if not os.path.exists(dataDir):\n",
    "    os.makedirs(dataDir)\n",
    "\n",
    "if not os.path.exists(connDir):\n",
    "    os.makedirs(connDir)\n",
    "\n",
    "\n",
    "# %%\n",
    "# connectivity\n",
    "default = connectivity.Connectivity.from_file()\n",
    "default.configure()\n",
    "\n",
    "# get a row and columnar index for specific regions or nodes\n",
    "idx = np.r_[random.sample(range(0, 75), 5)]\n",
    "\n",
    "# configure weights structural and connectivity\n",
    "# changedWeights = np.array([[0, 0, 0, 0, 0],\n",
    "#                            [0, 0, 0, 0, 0],\n",
    "#                            [0, 0, 0, 0, 0],\n",
    "#                            [0, 0, 0, 0, 0],\n",
    "#                            [0, 0, 0, 0, 0]])\n",
    "\n",
    "# tracts_nodelay = np.array([[0, 0, 0, 0, 0],\n",
    "#                            [0, 0, 0, 0, 0],\n",
    "#                            [0, 0, 0, 0, 0],\n",
    "#                            [0, 0, 0, 0, 0],\n",
    "#                            [0, 0, 0, 0, 0]])\n",
    "\n",
    "subset = connectivity.Connectivity(weights=default.weights[idx][:, idx],\n",
    "                                           tract_lengths=default.tract_lengths[idx][:, idx],\n",
    "                                           centres=default.centres[idx],\n",
    "                                           region_labels=default.region_labels[idx])\n",
    "subset.configure()\n",
    "\n",
    "\n",
    "connMatrixPlotter(subset)\n",
    "plt.savefig('/Users/borjanmilinkovic/Documents/gitdir/TVBEmergence/results/TEST_SJ3D_ps_gc-noise/conn/SJ3D_gc.svg', format='png')\n",
    "plt.show()"
   ]
  },
  {
   "cell_type": "code",
   "execution_count": 7,
   "id": "97444795-3b75-4d11-993d-d50b36132724",
   "metadata": {},
   "outputs": [
    {
     "data": {
      "text/plain": [
       "'rCCR'"
      ]
     },
     "execution_count": 7,
     "metadata": {},
     "output_type": "execute_result"
    }
   ],
   "source": [
    "subset.region_labels[0]\n",
    "\n"
   ]
  },
  {
   "cell_type": "code",
   "execution_count": null,
   "id": "8c71c289-1bbc-4ce5-88a4-2a2481d259eb",
   "metadata": {},
   "outputs": [],
   "source": []
  }
 ],
 "metadata": {
  "kernelspec": {
   "display_name": "Python 3 (ipykernel)",
   "language": "python",
   "name": "python3"
  },
  "language_info": {
   "codemirror_mode": {
    "name": "ipython",
    "version": 3
   },
   "file_extension": ".py",
   "mimetype": "text/x-python",
   "name": "python",
   "nbconvert_exporter": "python",
   "pygments_lexer": "ipython3",
   "version": "3.10.0"
  }
 },
 "nbformat": 4,
 "nbformat_minor": 5
}
